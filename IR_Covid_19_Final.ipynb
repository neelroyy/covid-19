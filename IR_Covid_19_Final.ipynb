{
 "cells": [
  {
   "cell_type": "code",
   "execution_count": null,
   "id": "f7ae3a19",
   "metadata": {},
   "outputs": [],
   "source": [
    "import pandas as pd\n",
    "import datetime\n",
    "import numpy as np\n",
    "import matplotlib.pyplot as plt\n",
    "import matplotlib.dates as mdates\n",
    "\n",
    "COVID_19_Activity_df = pd.read_csv('https://query.data.world/s/ynb7kpmvt5dw26vogf5ozoqjqpyhb2')\n",
    "COVID_19_Activity_df"
   ]
  },
  {
   "cell_type": "code",
   "execution_count": null,
   "id": "eb84d675",
   "metadata": {},
   "outputs": [],
   "source": [
    "#Drop the rows where at least one element is missing\n",
    "COVID_19_Activity_reduced_df = COVID_19_Activity_df.dropna()\n",
    "COVID_19_Activity_reduced_df"
   ]
  },
  {
   "cell_type": "code",
   "execution_count": null,
   "id": "77208bbb",
   "metadata": {},
   "outputs": [],
   "source": [
    "#Identify incomplete rows\n",
    "COVID_19_Activity_reduced_df[\"PROVINCE_STATE_NAME\"].value_counts()"
   ]
  },
  {
   "cell_type": "code",
   "execution_count": null,
   "id": "d4012295",
   "metadata": {},
   "outputs": [],
   "source": [
    "#Groupby State\n",
    "State_COVID_19_Activity_df = COVID_19_Activity_reduced_df.groupby([\"PROVINCE_STATE_NAME\"]).sum()\n",
    "State_COVID_19_Activity_df = State_COVID_19_Activity_df.reset_index()\n",
    "State_COVID_19_Activity_df"
   ]
  },
  {
   "cell_type": "code",
   "execution_count": null,
   "id": "5c1ace7b",
   "metadata": {},
   "outputs": [],
   "source": [
    "#Plot total COVID-19 positive cases in each state as of April 22, 2022\n",
    "plt.rcParams[\"figure.figsize\"] = (12,5)\n",
    "State_COVID_19_Activity_Sort_df = State_COVID_19_Activity_df.sort_values(\"PEOPLE_POSITIVE_NEW_CASES_COUNT\")\n",
    "State_COVID_19_Activity_Sort_df.plot(x=\"PROVINCE_STATE_NAME\", y=\"PEOPLE_POSITIVE_NEW_CASES_COUNT\", kind = \"bar\", align='center', width=0.8, color='blue')\n",
    "plt.xlabel(\"US States\")\n",
    "plt.ylabel(\"State Total Cases Count\")\n",
    "plt.title(\"US States Total COVID-19 Positive Cases Count\")\n",
    "plt.savefig('State Total Case Count.png')\n",
    "plt.show()"
   ]
  },
  {
   "cell_type": "code",
   "execution_count": null,
   "id": "56970226",
   "metadata": {},
   "outputs": [],
   "source": [
    "#Plot total COVID-19 deaths in each state as of April 22, 2022\n",
    "plt.rcParams[\"figure.figsize\"] = (12,5)\n",
    "State_COVID_19_Activity_Sort_df.plot(x=\"PROVINCE_STATE_NAME\", y=\"PEOPLE_DEATH_NEW_COUNT\", kind = \"bar\", align='center', width=0.8, color='red')\n",
    "plt.xlabel(\"US States\")\n",
    "plt.ylabel(\"State Total Death Count\")\n",
    "plt.title(\"US States Total Covid-19 Deaths Count\")\n",
    "plt.savefig('State Total Death Count.png')\n",
    "plt.show()"
   ]
  },
  {
   "cell_type": "code",
   "execution_count": null,
   "id": "5a0be822",
   "metadata": {},
   "outputs": [],
   "source": [
    "#Sort by date\n",
    "COVID_19_Activity_reduced_sort_df = COVID_19_Activity_reduced_df.sort_values(\"REPORT_DATE\")\n",
    "COVID_19_Activity_reduced_sort_df"
   ]
  },
  {
   "cell_type": "code",
   "execution_count": null,
   "id": "453edf49",
   "metadata": {},
   "outputs": [],
   "source": [
    "COVID_19_Activity_reduced_sort_df[\"REPORT_DATE\"].value_counts()"
   ]
  },
  {
   "cell_type": "code",
   "execution_count": null,
   "id": "e9c0c7f1",
   "metadata": {},
   "outputs": [],
   "source": [
    "#Group by date\n",
    "Total_COVID_19_Activity_df = COVID_19_Activity_reduced_sort_df.groupby([\"REPORT_DATE\"]).sum()\n",
    "#Total_COVID_19_Activity_df\n",
    "Total_COVID_19_Activity_df = Total_COVID_19_Activity_df.reset_index()\n",
    "Total_COVID_19_Activity_df"
   ]
  },
  {
   "cell_type": "code",
   "execution_count": null,
   "id": "9dc14d69",
   "metadata": {},
   "outputs": [],
   "source": [
    "#Plot total COVID-19 cases in the US over time\n",
    "plt.rcParams[\"figure.figsize\"] = (6,4)\n",
    "x = pd.to_datetime(Total_COVID_19_Activity_df[\"REPORT_DATE\"])\n",
    "# every 3 months\n",
    "locator = mdates.MonthLocator(interval=3)  \n",
    "# Specify the format (month-year)\n",
    "fmt = mdates.DateFormatter('%b-%y')\n",
    "\n",
    "y = Total_COVID_19_Activity_df[\"PEOPLE_POSITIVE_CASES_COUNT\"]\n",
    "\n",
    "plt.plot(x,y,color='blue', linestyle='dashed', marker='o',\n",
    "     markerfacecolor='blue', markersize=3, label='Positive Case Count')\n",
    "plt.legend(loc=\"lower right\")\n",
    "\n",
    "X = plt.gca().xaxis\n",
    "X.set_major_locator(locator)\n",
    "X.set_major_formatter(fmt)\n",
    "\n",
    "plt.title(\"Total Covid-19 Positive Cases in the US Over Time\")\n",
    "plt.xlabel(\"Time (month-year)\")\n",
    "plt.xticks(rotation=45)\n",
    "plt.ylabel(\"Positive Cases Count\")\n",
    "plt.savefig('Total Covid-19 Positive Cases in the US Over Time')\n",
    "plt.show()"
   ]
  },
  {
   "cell_type": "code",
   "execution_count": null,
   "id": "813e069b",
   "metadata": {},
   "outputs": [],
   "source": [
    "#Plot total COVID-19 deaths in the US over time\n",
    "plt.rcParams[\"figure.figsize\"] = (6,4)\n",
    "x = pd.to_datetime(Total_COVID_19_Activity_df[\"REPORT_DATE\"])\n",
    "\n",
    "locator = mdates.MonthLocator(interval=3)  # every 3 months\n",
    "# Specify the format - %b gives us Jan, Feb...\n",
    "fmt = mdates.DateFormatter('%b-%y')\n",
    "\n",
    "y = Total_COVID_19_Activity_df[\"PEOPLE_DEATH_COUNT\"]\n",
    "plt.plot(x,y,color='red', linestyle='dashed', marker='o',\n",
    "     markerfacecolor='red', markersize=3, label='Death Count')\n",
    "plt.legend(loc=\"lower right\")\n",
    "\n",
    "X = plt.gca().xaxis\n",
    "X.set_major_locator(locator)\n",
    "X.set_major_formatter(fmt)\n",
    "\n",
    "plt.title(\"Total Covid-19 Deaths in the US Over Time\")\n",
    "plt.xlabel(\"Time (month-year)\")\n",
    "plt.xticks(rotation=45)\n",
    "plt.ylabel(\"Death Count\")\n",
    "plt.savefig('Total Death in the US Over Time')\n",
    "plt.show()"
   ]
  },
  {
   "cell_type": "code",
   "execution_count": null,
   "id": "15ae646b",
   "metadata": {
    "scrolled": true
   },
   "outputs": [],
   "source": [
    "#Read and format Covid test data\n",
    "#Data available in the Data_Indranil folder\n",
    "Covid_Testing_df = pd.read_csv('Data_Indranil/COVID-19_Diagnostic_Laboratory_Testing__PCR_Testing__Time_Series.csv')\n",
    "Covid_Testing_df = Covid_Testing_df.rename(columns = {'state_name': 'PROVINCE_STATE_NAME', \n",
    "                                                      'date': 'REPORT_DATE', 'new_results_reported':'NEW_TESTS', 'total_results_reported': 'TOTAL_TESTS'})\n",
    "Covid_Testing_drop_df=Covid_Testing_df.drop(['state', 'state_fips', 'fema_region', 'overall_outcome', 'geocoded_state'], axis=1)\n",
    "Covid_Testing_drop_df "
   ]
  },
  {
   "cell_type": "code",
   "execution_count": null,
   "id": "598713ee",
   "metadata": {},
   "outputs": [],
   "source": [
    "Covid_Testing_drop_df[\"PROVINCE_STATE_NAME\"].value_counts()"
   ]
  },
  {
   "cell_type": "code",
   "execution_count": null,
   "id": "59132da0",
   "metadata": {},
   "outputs": [],
   "source": [
    "Covid_Testing_drop_df=Covid_Testing_drop_df.groupby([\"PROVINCE_STATE_NAME\"]).sum()\n",
    "#Covid_Testing_drop_df\n",
    "Covid_Testing_sort_df = Covid_Testing_drop_df.sort_values(\"TOTAL_TESTS\")\n",
    "Covid_Testing_sort_df = Covid_Testing_sort_df.reset_index()\n",
    "Covid_Testing_sort_df"
   ]
  },
  {
   "cell_type": "code",
   "execution_count": null,
   "id": "af165d63",
   "metadata": {},
   "outputs": [],
   "source": [
    "#Plot total COVID-19 tests in the US over time\n",
    "plt.rcParams[\"figure.figsize\"] = (12,5)\n",
    "Covid_Testing_sort_df.plot(x=\"PROVINCE_STATE_NAME\", y=\"NEW_TESTS\", kind = \"bar\", align='center', width=0.8, color='green')\n",
    "plt.xlabel(\"US States\")\n",
    "plt.ylabel(\"State Total Test Count\")\n",
    "plt.title(\"US States Total Covid-19 Tests Count\")\n",
    "plt.savefig('State Total Test Count.png')\n",
    "plt.show()"
   ]
  },
  {
   "cell_type": "code",
   "execution_count": null,
   "id": "62ca7969",
   "metadata": {},
   "outputs": [],
   "source": [
    "#Merge covid activity and test datasets\n",
    "Covid_Activity_Testing_df = pd.merge(State_COVID_19_Activity_df, Covid_Testing_sort_df, on=['PROVINCE_STATE_NAME'])\n",
    "Covid_Activity_Testing_df"
   ]
  },
  {
   "cell_type": "code",
   "execution_count": null,
   "id": "e44bf8b6",
   "metadata": {},
   "outputs": [],
   "source": [
    "#scatter plot: covid tests vs covid cases\n",
    "import scipy.stats as st\n",
    "plt.rcParams[\"figure.figsize\"] = (6,4)\n",
    "\n",
    "x = Covid_Activity_Testing_df['PEOPLE_POSITIVE_NEW_CASES_COUNT']\n",
    "y = Covid_Activity_Testing_df['NEW_TESTS']\n",
    "\n",
    "plt.title(\"US State Total Covid-19 Cases vs COVID-19 Tests\")\n",
    "plt.ylabel(\"Total Tests\")\n",
    "plt.xlabel(\"Total Cases\")\n",
    "plt.scatter(x,y,s = 10)\n",
    "\n",
    "slope, intercept, r, p, std_err = st.linregress(x,y)\n",
    "line_eq = \"y = \" + str(round(slope,2)) + \"x + \" + str(round(intercept,2))\n",
    "\n",
    "plt.plot(x,slope*x+intercept, color = 'b')\n",
    "plt.text(4000000, 5000000, f\"r = {round(r,2)}\")\n",
    "print(f\"The r-squared is: {round(r,2)}\")\n",
    "print(line_eq)\n",
    "plt.savefig('US State Covid-19 Cases vs COVID-19 Tests.png')\n",
    "plt.show()"
   ]
  },
  {
   "cell_type": "code",
   "execution_count": null,
   "id": "de848312",
   "metadata": {},
   "outputs": [],
   "source": [
    "#Create US map with covid cases and deaths \n",
    "#Data in Data_Indranil folder\n",
    "import geopandas as gpd\n",
    "states = gpd.read_file('Data_Indranil/USA_States_Generalized/USA_States_Generalized.shp')\n",
    "states = states.rename(columns ={'STATE_NAME':'name'})\n",
    "#states\n",
    "states['name'] = states['name'].apply(lambda x: x.lower())\n",
    "states"
   ]
  },
  {
   "cell_type": "code",
   "execution_count": null,
   "id": "ec10fad5",
   "metadata": {},
   "outputs": [],
   "source": [
    "#Rename column \n",
    "State_COVID_19_Activity_df = State_COVID_19_Activity_df.rename(columns = {'PROVINCE_STATE_NAME':'name'})\n",
    "State_COVID_19_Activity_df['name'] = State_COVID_19_Activity_df['name'].apply(lambda x: x.lower())\n",
    "State_COVID_19_Activity_df"
   ]
  },
  {
   "cell_type": "code",
   "execution_count": null,
   "id": "642788d2",
   "metadata": {},
   "outputs": [],
   "source": [
    "#Merge covid activity dataset and states dataset\n",
    "mergedStuff = pd.merge(State_COVID_19_Activity_df, states, how = \"inner\",on = 'name')\n",
    "mergedStuff"
   ]
  },
  {
   "cell_type": "code",
   "execution_count": null,
   "id": "73ce178e",
   "metadata": {},
   "outputs": [],
   "source": [
    "#Create US map with total covid cases   \n",
    "from shapely.geometry import Point, Polygon\n",
    "#\"EPSG:4326\" WGS84 Latitude/Longitude, used in GPS\n",
    "crs = {'init': 'epsg:4326'}\n",
    "geometry = []\n",
    "for i in range(len(mergedStuff.name)):\n",
    "    geometry.append(mergedStuff.geometry.values[i])\n",
    "geo_df = gpd.GeoDataFrame(mergedStuff, crs=crs, geometry=geometry)\n",
    "\n",
    "fig, ax = plt.subplots(figsize =(15,15))\n",
    "states.plot(ax=ax, alpha=0.4, color='grey')\n",
    "geo_df.plot(aspect=1)\n",
    "geo_df[geo_df['PEOPLE_POSITIVE_NEW_CASES_COUNT'] < int(1000000)].plot(ax=ax, markersize=20, color='green', marker=\"o\", label=\"<1000000\")\n",
    "geo_df[(geo_df['PEOPLE_POSITIVE_NEW_CASES_COUNT'] >= int(1000000)) & (geo_df['PEOPLE_POSITIVE_NEW_CASES_COUNT'] < int(2000000))].plot(ax=ax, markersize=20, color='yellow', marker=\"o\", label=\"1000000-5000000\")\n",
    "geo_df[(geo_df['PEOPLE_POSITIVE_NEW_CASES_COUNT'] >= int(2000000)) & (geo_df['PEOPLE_POSITIVE_NEW_CASES_COUNT'] < int(5000000))].plot(ax=ax, markersize=20, color='orange', marker=\"o\", label=\"2000000-5000000\")\n",
    "geo_df[(geo_df['PEOPLE_POSITIVE_NEW_CASES_COUNT'] >= int(5000000)) & (geo_df['PEOPLE_POSITIVE_NEW_CASES_COUNT'] <= int(10000000))].plot(ax=ax, markersize=20, color='red', marker=\"o\", label=\"5000000-10000000\")\n",
    "\n",
    "plt.savefig('Covid-19 Cases US map_all States.png')\n",
    "plt.show()"
   ]
  },
  {
   "cell_type": "code",
   "execution_count": null,
   "id": "2d524909",
   "metadata": {},
   "outputs": [],
   "source": [
    "#Create US map with total covid deaths   \n",
    "fig, ax = plt.subplots(figsize =(15,15))\n",
    "states.plot(ax=ax, alpha=0.4, color='grey')\n",
    "\n",
    "geo_df.plot(aspect=1)\n",
    "geo_df[geo_df['PEOPLE_DEATH_NEW_COUNT'] < int(10000)].plot(ax=ax, markersize=20, color='green', marker=\"o\", label=\"<10000\")\n",
    "geo_df[(geo_df['PEOPLE_DEATH_NEW_COUNT'] >= int(10000)) & (geo_df['PEOPLE_DEATH_NEW_COUNT'] < int(20000))].plot(ax=ax, markersize=20, color='yellow', marker=\"o\", label=\"10000-20000\")\n",
    "geo_df[(geo_df['PEOPLE_DEATH_NEW_COUNT'] >= int(20000)) & (geo_df['PEOPLE_DEATH_NEW_COUNT'] <= int(50000))].plot(ax=ax, markersize=20, color='orange', marker=\"o\", label=\"20000-50000\")\n",
    "geo_df[(geo_df['PEOPLE_DEATH_NEW_COUNT'] >= int(50000)) & (geo_df['PEOPLE_DEATH_NEW_COUNT'] <= int(100000))].plot(ax=ax, markersize=20, color='red', marker=\"o\", label=\"50000-100000\")\n",
    "# # #plt.legend(prop = {'size':20})\n",
    "plt.savefig('Covid-19 Deaths US map_all States.png')\n",
    "plt.show()"
   ]
  },
  {
   "cell_type": "code",
   "execution_count": null,
   "id": "ec2e2ae4",
   "metadata": {},
   "outputs": [],
   "source": [
    "#Read and format US population dataset\n",
    "#Dataset available in the Data_Indranil folder\n",
    "US_Population_df = pd.read_csv('Data_Indranil/NST-EST2021-POP.csv')\n",
    "US_Population_df = US_Population_df.rename(columns = {'STATE': 'PROVINCE_STATE_NAME'})\n",
    "#US_Population_df\n",
    "US_Population_df['PROVINCE_STATE_NAME'] = US_Population_df['PROVINCE_STATE_NAME'].apply(lambda x: x.lower())\n",
    "#US_Population_df\n",
    "US_Population_df['PROVINCE_STATE_NAME'] = US_Population_df['PROVINCE_STATE_NAME'].apply(lambda x: x.replace(\".\",\"\"))\n",
    "#US_Population_df\n",
    "US_Population_df['POPULATION'] = US_Population_df['POPULATION'].apply(lambda x: x.replace(\",\",\"\"))\n",
    "US_Population_df"
   ]
  },
  {
   "cell_type": "code",
   "execution_count": null,
   "id": "b51a4524",
   "metadata": {},
   "outputs": [],
   "source": [
    "Covid_Testing_sort_df['PROVINCE_STATE_NAME'] = Covid_Testing_sort_df['PROVINCE_STATE_NAME'].apply(lambda x: x.lower())\n",
    "Covid_Testing_sort_df"
   ]
  },
  {
   "cell_type": "code",
   "execution_count": null,
   "id": "21e5eaec",
   "metadata": {},
   "outputs": [],
   "source": [
    "#Merge and format dataset\n",
    "Covid_Test_Pop_df = pd.merge(Covid_Testing_sort_df, US_Population_df, on=['PROVINCE_STATE_NAME'])\n",
    "Covid_Test_Pop_df\n",
    "#Covid_Test_Pop_df.dtypes\n",
    "Covid_Test_Pop_df[\"POPULATION\"]=Covid_Test_Pop_df[\"POPULATION\"].astype(int)\n",
    "Covid_Test_Pop_df.dtypes"
   ]
  },
  {
   "cell_type": "code",
   "execution_count": null,
   "id": "2f0fcf8e",
   "metadata": {},
   "outputs": [],
   "source": [
    "#Add %Test column with US state % population \n",
    "Covid_Test_Pop_df[\"%Test\"]=(Covid_Test_Pop_df[\"NEW_TESTS\"]/Covid_Test_Pop_df[\"POPULATION\"]*100)\n",
    "Covid_Test_Pop_df=Covid_Test_Pop_df.sort_values(\"%Test\")\n",
    "Covid_Test_Pop_df"
   ]
  },
  {
   "cell_type": "code",
   "execution_count": null,
   "id": "20788825",
   "metadata": {},
   "outputs": [],
   "source": [
    "#Plot US state %test count \n",
    "plt.rcParams[\"figure.figsize\"] = (12,5)\n",
    "Covid_Test_Pop_df.plot(x=\"PROVINCE_STATE_NAME\", y=\"%Test\", kind = \"bar\", align='center', width=0.8, color='green')\n",
    "plt.xlabel(\"US States\")\n",
    "plt.ylabel(\"State %Test Count\")\n",
    "plt.title(\"US States %Test Count\")\n",
    "plt.savefig('State %Test Count.png')\n",
    "plt.show()"
   ]
  },
  {
   "cell_type": "code",
   "execution_count": null,
   "id": "847c3e82",
   "metadata": {},
   "outputs": [],
   "source": []
  }
 ],
 "metadata": {
  "kernelspec": {
   "display_name": "Python [conda env:PythonData38] *",
   "language": "python",
   "name": "conda-env-PythonData38-py"
  },
  "language_info": {
   "codemirror_mode": {
    "name": "ipython",
    "version": 3
   },
   "file_extension": ".py",
   "mimetype": "text/x-python",
   "name": "python",
   "nbconvert_exporter": "python",
   "pygments_lexer": "ipython3",
   "version": "3.8.12"
  }
 },
 "nbformat": 4,
 "nbformat_minor": 5
}
