{
 "cells": [
  {
   "cell_type": "code",
   "execution_count": null,
   "id": "eceb7453",
   "metadata": {
    "scrolled": true
   },
   "outputs": [],
   "source": [
    "import matplotlib.pyplot as plt\n",
    "import pandas as pd\n",
    "import scipy.stats as st\n",
    "\n",
    "#read data and preview it\n",
    "df = pd.read_csv('https://query.data.world/s/254wzyu352gsbcze7tu3pckdjuuhm3')\n",
    "df.head()"
   ]
  },
  {
   "cell_type": "code",
   "execution_count": null,
   "id": "2452b831",
   "metadata": {
    "scrolled": true
   },
   "outputs": [],
   "source": [
    "#identify incomplete rows\n",
    "df.count()"
   ]
  },
  {
   "cell_type": "code",
   "execution_count": null,
   "id": "556f350d",
   "metadata": {},
   "outputs": [],
   "source": [
    "#drop rows with missing info\n",
    "drop_missing_df = df.dropna(how ='any')\n",
    "drop_missing_df = drop_missing_df[drop_missing_df[\"PEOPLE_DEATH_NEW_COUNT\"] > 0]\n",
    "drop_missing_df\n"
   ]
  },
  {
   "cell_type": "code",
   "execution_count": null,
   "id": "d19e8be6",
   "metadata": {
    "scrolled": true
   },
   "outputs": [],
   "source": [
    "#verify dropped rows\n",
    "drop_missing_df.count()"
   ]
  },
  {
   "cell_type": "code",
   "execution_count": null,
   "id": "cfb6efa6",
   "metadata": {},
   "outputs": [],
   "source": [
    "#sort based on date\n",
    "sorted_dates_df = drop_missing_df.sort_values(\"REPORT_DATE\")\n",
    "sorted_dates_df"
   ]
  },
  {
   "cell_type": "code",
   "execution_count": null,
   "id": "9cc56b07",
   "metadata": {},
   "outputs": [],
   "source": [
    "#do something with dates? total of each death count by date?\n",
    "#overview of date column\n",
    "sorted_dates_df[\"REPORT_DATE\"].value_counts()"
   ]
  },
  {
   "cell_type": "code",
   "execution_count": null,
   "id": "348e81bd",
   "metadata": {},
   "outputs": [],
   "source": [
    "new_grouped_df = sorted_dates_df.groupby([\"REPORT_DATE\"]).sum()\n",
    "new_grouped_df = new_grouped_df.reset_index()\n",
    "new_grouped_df"
   ]
  },
  {
   "cell_type": "code",
   "execution_count": null,
   "id": "4bf8558e",
   "metadata": {
    "scrolled": false
   },
   "outputs": [],
   "source": [
    "x = new_grouped_df[\"REPORT_DATE\"]\n",
    "y = new_grouped_df[\"PEOPLE_DEATH_COUNT\"]\n",
    "plt.plot(x,y)\n",
    "plt.title(\"Total People Death Count Over Time\")\n",
    "plt.xlabel(\"Time (Months)\")\n",
    "plt.ylabel(\"People Death Count\")\n",
    "plt.show()"
   ]
  },
  {
   "cell_type": "code",
   "execution_count": null,
   "id": "3a01963f",
   "metadata": {},
   "outputs": [],
   "source": [
    "x = new_grouped_df[\"REPORT_DATE\"]\n",
    "y = new_grouped_df[\"PEOPLE_DEATH_NEW_COUNT\"]\n",
    "plt.plot(x,y)\n",
    "plt.title(\"New People Death Counts Over Time\")\n",
    "plt.xlabel(\"Time (Months)\")\n",
    "plt.ylabel(\"New Death Count\")\n",
    "plt.show()"
   ]
  },
  {
   "cell_type": "code",
   "execution_count": null,
   "id": "901bf84a",
   "metadata": {},
   "outputs": [],
   "source": []
  }
 ],
 "metadata": {
  "kernelspec": {
   "display_name": "Python [conda env:PythonData38] *",
   "language": "python",
   "name": "conda-env-PythonData38-py"
  },
  "language_info": {
   "codemirror_mode": {
    "name": "ipython",
    "version": 3
   },
   "file_extension": ".py",
   "mimetype": "text/x-python",
   "name": "python",
   "nbconvert_exporter": "python",
   "pygments_lexer": "ipython3",
   "version": "3.8.12"
  }
 },
 "nbformat": 4,
 "nbformat_minor": 5
}
