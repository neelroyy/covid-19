{
 "cells": [
  {
   "cell_type": "code",
   "execution_count": null,
   "id": "1c860df8",
   "metadata": {
    "scrolled": true
   },
   "outputs": [],
   "source": [
    "#Import Depedencies\n",
    "%matplotlib notebook\n",
    "\n",
    "import matplotlib.pyplot as plt\n",
    "import numpy as np\n",
    "import scipy.stats as st"
   ]
  },
  {
   "cell_type": "code",
   "execution_count": null,
   "id": "5b63383a",
   "metadata": {},
   "outputs": [],
   "source": [
    "# Set up parameters: method 1 - get from link\n",
    "import pandas as pd\n",
    "df_tl = pd.read_csv('https://query.data.world/s/fxguk7urfvwos2oxen2nma7x53tyyy')\n",
    "df_tl.head()"
   ]
  },
  {
   "cell_type": "code",
   "execution_count": null,
   "id": "8385e0dc",
   "metadata": {},
   "outputs": [],
   "source": [
    "#identify incomplete rows\n",
    "df_tl.count()"
   ]
  },
  {
   "cell_type": "code",
   "execution_count": null,
   "id": "2bcddf7a",
   "metadata": {},
   "outputs": [],
   "source": [
    "#drop rows with missing info\n",
    "drop_missing_df_tl = df_tl.dropna(how ='any')\n",
    "drop_missing_df_tl = drop_missing_df_tl[drop_missing_df_tl[\"PEOPLE_POSITIVE_NEW_CASES_COUNT\"] > 0]\n",
    "drop_missing_df_tl"
   ]
  },
  {
   "cell_type": "code",
   "execution_count": null,
   "id": "247de8d5",
   "metadata": {},
   "outputs": [],
   "source": [
    "#verify dropped rows\n",
    "drop_missing_df_tl.count()"
   ]
  },
  {
   "cell_type": "code",
   "execution_count": null,
   "id": "396e510a",
   "metadata": {},
   "outputs": [],
   "source": [
    "#sort based on date\n",
    "sorted_dates_df = drop_missing_df_tl.sort_values(\"REPORT_DATE\")\n",
    "sorted_dates_df"
   ]
  },
  {
   "cell_type": "code",
   "execution_count": null,
   "id": "91f899af",
   "metadata": {},
   "outputs": [],
   "source": [
    "#overview of date column\n",
    "sorted_dates_df[\"REPORT_DATE\"].value_counts()"
   ]
  },
  {
   "cell_type": "code",
   "execution_count": null,
   "id": "51b6ef0d",
   "metadata": {},
   "outputs": [],
   "source": [
    "new_grouped_df_tl = sorted_dates_df.groupby([\"REPORT_DATE\"]).sum()\n",
    "new_grouped_df_tl = new_grouped_df_tl.reset_index()\n",
    "new_grouped_df_tl"
   ]
  },
  {
   "cell_type": "code",
   "execution_count": null,
   "id": "07115d7d",
   "metadata": {
    "scrolled": true
   },
   "outputs": [],
   "source": [
    "#Graph 1: Case count vs. time(dates) for the whole US population\n",
    "x = new_grouped_df_tl[\"REPORT_DATE\"]\n",
    "y = new_grouped_df_tl[\"PEOPLE_POSITIVE_CASES_COUNT\"]\n",
    "plt.plot(x,y)\n",
    "plt.title(\"Total People Positive Case Count Over Time\")\n",
    "plt.xlabel(\"Time (Dates)\")\n",
    "plt.ylabel(\"People New Case Count\")\n",
    "plt.show()"
   ]
  },
  {
   "cell_type": "code",
   "execution_count": null,
   "id": "054bb546",
   "metadata": {},
   "outputs": [],
   "source": [
    "#Graph 2: Positive New Case count vs. time(dates) over the time\n",
    "x1 = new_grouped_df_tl[\"REPORT_DATE\"]\n",
    "y1 = new_grouped_df_tl[\"PEOPLE_POSITIVE_NEW_CASES_COUNT\"]\n",
    "plt.plot(x1,y1)\n",
    "plt.title(\"People Positive New Case Counts Over Time\")\n",
    "plt.xlabel(\"Time (Dates)\")\n",
    "plt.ylabel(\"New Positive Case Count\")\n",
    "plt.show()"
   ]
  },
  {
   "cell_type": "code",
   "execution_count": null,
   "id": "b5c1ca3f",
   "metadata": {},
   "outputs": [],
   "source": []
  }
 ],
 "metadata": {
  "kernelspec": {
   "display_name": "Python [conda env:PythonData38] *",
   "language": "python",
   "name": "conda-env-PythonData38-py"
  },
  "language_info": {
   "codemirror_mode": {
    "name": "ipython",
    "version": 3
   },
   "file_extension": ".py",
   "mimetype": "text/x-python",
   "name": "python",
   "nbconvert_exporter": "python",
   "pygments_lexer": "ipython3",
   "version": "3.8.12"
  }
 },
 "nbformat": 4,
 "nbformat_minor": 5
}
