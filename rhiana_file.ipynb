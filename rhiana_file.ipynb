{
 "cells": [
  {
   "cell_type": "code",
   "execution_count": null,
   "id": "5674043a",
   "metadata": {},
   "outputs": [],
   "source": [
    "import matplotlib.pyplot as plt\n",
    "import pandas as pd\n",
    "import scipy.stats as st\n",
    "import numpy as np\n",
    "from states import states"
   ]
  },
  {
   "cell_type": "code",
   "execution_count": null,
   "id": "393ba1d5",
   "metadata": {},
   "outputs": [],
   "source": [
    "#read and format election data\n",
    "el_df = pd.read_csv('datasets/ElectionResults2020.csv')\n",
    "el_df = el_df[el_df['won'] == True]\n",
    "el_df = el_df[['state', 'county', 'party']]\n",
    "el_df = el_df.rename(columns = {'state': 'State', 'county': 'County', 'party':'2020 Election Result'})\n",
    "el_df = el_df.reset_index(drop = True)\n",
    "el_df"
   ]
  },
  {
   "cell_type": "code",
   "execution_count": null,
   "id": "4f78a48d",
   "metadata": {},
   "outputs": [],
   "source": [
    "#read and format population data\n",
    "pop_df = pd.read_csv('datasets/uscensuspop2020.csv')\n",
    "pop_df = pop_df[['STNAME', 'CTYNAME', 'ESTIMATESBASE2020']]\n",
    "pop_df = pop_df.rename(columns = {'STNAME': 'State', 'CTYNAME': 'County', 'ESTIMATESBASE2020':'Population'})\n",
    "pop_df"
   ]
  },
  {
   "cell_type": "code",
   "execution_count": null,
   "id": "6cdfda3b",
   "metadata": {},
   "outputs": [],
   "source": [
    "#read and clean county poverty data\n",
    "poverty_df = pd.read_csv('datasets/PovertyEstimates.csv')\n",
    "poverty_df = poverty_df.rename(columns = {'Stabr': 'State Abbv', 'Area_name': 'County', 'PCTPOVALL_2019':'poverty rate'})\n",
    "#convert state abbv to state name to more easily combine datasets\n",
    "poverty_df['State'] = [states[x] for x in poverty_df['State Abbv']]\n",
    "poverty_df = poverty_df[['State', 'County', 'poverty rate']]\n",
    "poverty_df"
   ]
  },
  {
   "cell_type": "code",
   "execution_count": null,
   "id": "4272e481",
   "metadata": {},
   "outputs": [],
   "source": [
    "#combine population and poverty data\n",
    "pop_pov_df = pd.merge(poverty_df, pop_df, on=['County', 'State'])\n",
    "pop_pov_df"
   ]
  },
  {
   "cell_type": "code",
   "execution_count": null,
   "id": "3f1df552",
   "metadata": {},
   "outputs": [],
   "source": [
    "#read covid-19 data and preview it\n",
    "covid_df = pd.read_csv('https://query.data.world/s/254wzyu352gsbcze7tu3pckdjuuhm3')\n",
    "covid_df"
   ]
  },
  {
   "cell_type": "code",
   "execution_count": null,
   "id": "83791c78",
   "metadata": {},
   "outputs": [],
   "source": [
    "#Narrow dataset to only united states\n",
    "us_df = covid_df[covid_df['COUNTRY_SHORT_NAME'] == 'United States']\n",
    "#because we are looking only at cumulative data, I only want the most recent totals\n",
    "today_df = us_df[us_df['REPORT_DATE']==max(us_df['REPORT_DATE'])]\n",
    "#narrow to only cols of interest\n",
    "today_df = today_df[['COUNTY_NAME',\n",
    "                        'PROVINCE_STATE_NAME',\n",
    "                        'PEOPLE_POSITIVE_CASES_COUNT',\n",
    "                        'PEOPLE_DEATH_COUNT']]\n",
    "#rename cols\n",
    "today_df = today_df.rename(columns = {'COUNTY_NAME': 'County',\n",
    "                                            'PROVINCE_STATE_NAME': 'State',\n",
    "                                            'PEOPLE_POSITIVE_CASES_COUNT': 'Cases',\n",
    "                                            'PEOPLE_DEATH_COUNT':'Deaths'})\n",
    "#adding \"county\" because covid data set listed only by first word\n",
    "today_df['County'] = [(x+' County') for x in today_df['County']]\n",
    "today_df = today_df.reset_index(drop=True)\n",
    "today_df"
   ]
  },
  {
   "cell_type": "code",
   "execution_count": null,
   "id": "0251758e",
   "metadata": {},
   "outputs": [],
   "source": [
    "#merge datasets\n",
    "covid_pop_df = pd.merge(today_df, pop_pov_df, on=['County', 'State'])\n",
    "df = pd.merge(covid_pop_df, el_df, on = ['County', 'State'], how ='inner')\n",
    "#calculate cases/deaths as percent of total population\n",
    "df['% Cases'] = df['Cases']/df['Population']*100\n",
    "df['% Deaths'] = df['Deaths']/df['Population']*100\n",
    "#remove outliers\n",
    "df=df[df['% Cases'] < 50]\n",
    "df=df[df['% Deaths'] < 1.1]\n",
    "#display\n",
    "df"
   ]
  },
  {
   "cell_type": "code",
   "execution_count": null,
   "id": "5583aed2",
   "metadata": {},
   "outputs": [],
   "source": [
    "#narrow to just states\n",
    "state_df = df[['State', 'Cases', 'Deaths', 'Population']].groupby('State').sum()\n",
    "#calculate cases/deaths as percent of total population\n",
    "state_df['% Cases'] = state_df['Cases']/state_df['Population']*100\n",
    "state_df['% Deaths'] = state_df['Deaths']/state_df['Population']*100\n",
    "state_df = state_df.reset_index()\n",
    "#display\n",
    "state_df"
   ]
  },
  {
   "cell_type": "code",
   "execution_count": null,
   "id": "61dd8d97",
   "metadata": {},
   "outputs": [],
   "source": [
    "#State vs total case count - bar\n",
    "plt.rcParams[\"figure.figsize\"] = (15,5)\n",
    "plt.bar(state_df['State'],state_df['% Cases'])\n",
    "plt.title(\"US States: COVID-19 Cases from 2020 to today\")\n",
    "plt.xticks(rotation = 90)\n",
    "plt.yticks(np.arange(0, 40, 5))\n",
    "plt.ylabel(\"COVID-19 Cases as % of State Population\")\n",
    "plt.savefig('graphs/all_states_cases.png')\n",
    "plt.show()"
   ]
  },
  {
   "cell_type": "code",
   "execution_count": null,
   "id": "6954cb6c",
   "metadata": {},
   "outputs": [],
   "source": [
    "#State vs total death counts - bar\n",
    "plt.bar(state_df['State'],state_df['% Deaths'])\n",
    "plt.title(\"US States: COVID-19 Deaths from 2020 to today\")\n",
    "plt.xticks(rotation = 90)\n",
    "plt.yticks(np.arange(0,0.5, 0.05))\n",
    "plt.ylabel(\"COVID-19 Deaths as % of State Population\")\n",
    "plt.savefig('graphs/all_states_deaths.png')\n",
    "plt.show()"
   ]
  },
  {
   "cell_type": "code",
   "execution_count": null,
   "id": "491c9b02",
   "metadata": {},
   "outputs": [],
   "source": [
    "#group states by 2020 election results\n",
    "grouped_el_df = df.groupby('2020 Election Result').mean()\n",
    "group_df = grouped_el_df[['% Cases', '% Deaths']]\n",
    "group_df = group_df.reset_index()\n",
    "group_df"
   ]
  },
  {
   "cell_type": "code",
   "execution_count": null,
   "id": "74c6f78c",
   "metadata": {},
   "outputs": [],
   "source": [
    "#t-tests\n",
    "dem_df = df[df['2020 Election Result']=='DEM']\n",
    "rep_df = df[df['2020 Election Result']=='REP']\n",
    "#cases\n",
    "stat_c, p_c = st.ttest_ind(dem_df['% Cases'], rep_df['% Cases'])\n",
    "#deaths\n",
    "stat_d, p_d = st.ttest_ind(dem_df['% Deaths'], rep_df['% Deaths'])\n",
    "p_c = round(p_c,8)\n",
    "p_d = round(p_d,31)\n",
    "print (p_c)\n",
    "print(p_d)"
   ]
  },
  {
   "cell_type": "code",
   "execution_count": null,
   "id": "01c44c94",
   "metadata": {},
   "outputs": [],
   "source": [
    "#Cases\n",
    "plt.rcParams[\"figure.figsize\"] = (5,5)\n",
    "plt.bar(['Democratic Counties', 'Republican Counties'],group_df['% Cases'])\n",
    "plt.yticks(np.arange(20,28,1))\n",
    "plt.ylim(20,26)\n",
    "plt.title(\"COVID-19 Cases in Counties by 2020 Election Results\")\n",
    "plt.ylabel(\"COVID-19 Cases as a % of Population\")\n",
    "plt.xlabel(f\"p = {p_c}\")\n",
    "plt.savefig('graphs/cases_by_party.png')\n",
    "plt.show()"
   ]
  },
  {
   "cell_type": "code",
   "execution_count": null,
   "id": "d52d1ed6",
   "metadata": {},
   "outputs": [],
   "source": [
    "#Deaths\n",
    "plt.rcParams[\"figure.figsize\"] = (5,5)\n",
    "plt.bar(['Democratic Counties', 'Republican Counties'],group_df['% Deaths'])\n",
    "plt.yticks(np.arange(0,0.5,0.05))\n",
    "plt.title(\"COVID-19 Deaths in Counties by 2020 Election Results\")\n",
    "plt.ylabel(\"COVID-19 Deaths as a % of Population\")\n",
    "plt.xlabel(f\"p = {p_d}\")\n",
    "plt.savefig('graphs/deaths_by_party.png')\n",
    "plt.show()"
   ]
  },
  {
   "cell_type": "code",
   "execution_count": null,
   "id": "20178dae",
   "metadata": {},
   "outputs": [],
   "source": [
    "#income v.cases scatter plot\n",
    "x = df['poverty rate']\n",
    "y = df['% Cases']\n",
    "xd = dem_df['poverty rate']\n",
    "yd = dem_df['% Cases']\n",
    "xr = rep_df['poverty rate']\n",
    "yr = rep_df['% Cases']\n",
    "\n",
    "\n",
    "plt.rcParams[\"figure.figsize\"] = (8,8)\n",
    "plt.title(\"US Counties: Poverty Rate v. COVID-19 Cases\")\n",
    "plt.ylabel(\"COVID-19 Cases as a % of Population\")\n",
    "plt.xlabel(\"Poverty Rate\")\n",
    "plt.scatter(xd,yd,s = 1, color = 'b')\n",
    "plt.scatter(xr,yr,s = 1, color = 'r')\n",
    "\n",
    "slope, intercept, r, p, std_err = st.linregress(x,y)\n",
    "sloped, interceptd, rd, pd, std_errd = st.linregress(xd,yd)\n",
    "sloper, interceptr, rr, pr, std_errr = st.linregress(xr,yr)\n",
    "\n",
    "plt.plot(x,slope*x+intercept, color = 'k')\n",
    "plt.plot(xd,sloped*xd+interceptd, color = 'b')\n",
    "plt.plot(xr,sloper*xr+interceptr, color = 'r')\n",
    "\n",
    "plt.text(10, 45, f\"r = {round(r,4)}\")\n",
    "plt.text(10, 47, f\"r = {round(rd,4)}\", c='b')\n",
    "plt.text(10, 49, f\"r = {round(rr,4)}\", c='r')\n",
    "plt.savefig('graphs/poverty_v_cases.png')\n",
    "plt.show()\n"
   ]
  },
  {
   "cell_type": "code",
   "execution_count": null,
   "id": "2a6de667",
   "metadata": {},
   "outputs": [],
   "source": [
    "#income v. deaths scatter plot\n",
    "x2 = df['poverty rate']\n",
    "y2 = df['% Deaths']\n",
    "xd2 = dem_df['poverty rate']\n",
    "yd2 = dem_df['% Deaths']\n",
    "xr2 = rep_df['poverty rate']\n",
    "yr2 = rep_df['% Deaths']\n",
    "\n",
    "slope, intercept, r, p, std_err = st.linregress(x2,y2)\n",
    "sloped, interceptd, rd, pd, std_errd = st.linregress(xd2,yd2)\n",
    "sloper, interceptr, rr, pr, std_errr = st.linregress(xr2,yr2)\n",
    "\n",
    "plt.title(\"US Counties: Poverty Rate v. COVID-19 Deaths\")\n",
    "plt.ylabel(\"COVID-19 Deaths as a % of Population\")\n",
    "plt.xlabel(\"Poverty Rate\")\n",
    "plt.scatter(xd2,yd2,s = 1, color = 'b')\n",
    "plt.scatter(xr2,yr2,s = 1, color = 'r')\n",
    "\n",
    "plt.plot(x2,slope*x2+intercept, color = 'k')\n",
    "plt.plot(xd2,sloped*xd2+interceptd, color = 'b')\n",
    "plt.plot(xr2,sloper*xr2+interceptr, color = 'r')\n",
    "\n",
    "\n",
    "plt.text(35, 0.1, f\"r = {round(r,5)}\")\n",
    "\n",
    "plt.text(35, 0.1, f\"r = {round(r,4)}\")\n",
    "plt.text(35, 0.2, f\"r = {round(rd,4)}\", c='b')\n",
    "plt.text(35, 0.3, f\"r = {round(rr,4)}\", c='r')\n",
    "\n",
    "plt.savefig('graphs/poverty_v_deaths.png')\n",
    "plt.show()"
   ]
  }
 ],
 "metadata": {
  "kernelspec": {
   "display_name": "Python 3 (ipykernel)",
   "language": "python",
   "name": "python3"
  },
  "language_info": {
   "codemirror_mode": {
    "name": "ipython",
    "version": 3
   },
   "file_extension": ".py",
   "mimetype": "text/x-python",
   "name": "python",
   "nbconvert_exporter": "python",
   "pygments_lexer": "ipython3",
   "version": "3.9.7"
  }
 },
 "nbformat": 4,
 "nbformat_minor": 5
}
