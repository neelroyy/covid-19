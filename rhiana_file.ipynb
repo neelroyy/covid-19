{
 "cells": [
  {
   "cell_type": "code",
   "execution_count": null,
   "id": "5674043a",
   "metadata": {},
   "outputs": [],
   "source": [
    "import matplotlib.pyplot as plt\n",
    "import pandas as pd\n",
    "import scipy.stats as st\n",
    "import numpy as np"
   ]
  },
  {
   "cell_type": "code",
   "execution_count": null,
   "id": "4f78a48d",
   "metadata": {},
   "outputs": [],
   "source": [
    "#read population data\n",
    "pop_df = pd.read_csv('state_pops_2021.csv')\n",
    "pop_df['Population'] = pop_df['Population (in millions)']*1000000\n",
    "pop_df = pop_df[['State', 'Population']]\n",
    "pop_df.head()"
   ]
  },
  {
   "cell_type": "code",
   "execution_count": null,
   "id": "96fdf87d",
   "metadata": {},
   "outputs": [],
   "source": [
    "#read election data\n",
    "el_df = pd.read_csv('ElectionResults2020.csv')\n",
    "el_df = el_df.iloc[4: , :]\n",
    "el_df = el_df[['state', 'called']]\n",
    "el_df = el_df.rename(columns = {'state': 'State', 'called':'2020 Election Result'})\n",
    "el_df.head()"
   ]
  },
  {
   "cell_type": "code",
   "execution_count": null,
   "id": "4dd7d942",
   "metadata": {},
   "outputs": [],
   "source": [
    "#combine election and population datasets\n",
    "el_pop_df = pd.merge(el_df, pop_df, on='State' )\n",
    "el_pop_df.head()"
   ]
  },
  {
   "cell_type": "code",
   "execution_count": null,
   "id": "3f1df552",
   "metadata": {},
   "outputs": [],
   "source": [
    "#read covid-19 data and preview it\n",
    "covid_df = pd.read_csv('https://query.data.world/s/254wzyu352gsbcze7tu3pckdjuuhm3')\n",
    "covid_df.head()"
   ]
  },
  {
   "cell_type": "code",
   "execution_count": null,
   "id": "83791c78",
   "metadata": {},
   "outputs": [],
   "source": [
    "#Narrow dataset to only united states\n",
    "us_df = covid_df[covid_df['COUNTRY_SHORT_NAME'] == 'United States']\n",
    "#because we are looking only at cumulative data, I only want the most recent totals\n",
    "today_df = us_df[us_df['REPORT_DATE']==max(us_df['REPORT_DATE'])]\n",
    "#group by totals for each state\n",
    "state_grouped_df = today_df.groupby(['PROVINCE_STATE_NAME']).sum().reset_index()\n",
    "#narrow to only cols of interest\n",
    "state_covid_df = state_grouped_df[['PROVINCE_STATE_NAME',\n",
    "                                   'PEOPLE_POSITIVE_CASES_COUNT',\n",
    "                                   'PEOPLE_DEATH_COUNT']]\n",
    "#rename cols\n",
    "state_covid_df = state_covid_df.rename(columns = {'PROVINCE_STATE_NAME': 'State',\n",
    "                                                      'PEOPLE_POSITIVE_CASES_COUNT': 'Cases',\n",
    "                                                      'PEOPLE_DEATH_COUNT':'Deaths'})\n",
    "#Add column for death/case ratio \n",
    "state_covid_df['% Deaths per Case'] = state_covid_df['Deaths']/state_covid_df['Cases']*100\n",
    "#display\n",
    "state_covid_df.head()"
   ]
  },
  {
   "cell_type": "code",
   "execution_count": null,
   "id": "cf8670eb",
   "metadata": {},
   "outputs": [],
   "source": [
    "#merge datasets\n",
    "df = pd.merge(state_covid_df, el_pop_df, on='State')\n",
    "#display\n",
    "df.head()"
   ]
  },
  {
   "cell_type": "code",
   "execution_count": null,
   "id": "0251758e",
   "metadata": {},
   "outputs": [],
   "source": [
    "#calculate cases/deaths as percent of total population\n",
    "df['% Cases'] = df['Cases']/df['Population']*100\n",
    "df['% Deaths'] = df['Deaths']/df['Population']*100\n",
    "df.head()"
   ]
  },
  {
   "cell_type": "code",
   "execution_count": null,
   "id": "61dd8d97",
   "metadata": {},
   "outputs": [],
   "source": [
    "#State vs total case count - bar\n",
    "plt.bar(df['State'],df['% Cases'])\n",
    "plt.rcParams[\"figure.figsize\"] = (15,5)\n",
    "plt.title(\"US States: COVID-19 Cases as % of Total Population\")\n",
    "plt.xticks(rotation = 90)\n",
    "plt.yticks(np.arange(0, 40, 5))\n",
    "plt.ylabel(\"COVID-19 Cases as % of Total Population\")\n",
    "plt.show()"
   ]
  },
  {
   "cell_type": "code",
   "execution_count": null,
   "id": "6954cb6c",
   "metadata": {},
   "outputs": [],
   "source": [
    "#State vs total death counts - bar\n",
    "plt.bar(df['State'],df['% Deaths'])\n",
    "plt.title(\"Deaths due to COVID-19 as a % of Total Population for each US State\")\n",
    "plt.xticks(rotation = 90)\n",
    "plt.yticks(np.arange(0,0.5, 0.05))\n",
    "plt.ylabel(\"Total Death Count\")\n",
    "plt.show()"
   ]
  },
  {
   "cell_type": "code",
   "execution_count": null,
   "id": "a882d864",
   "metadata": {},
   "outputs": [],
   "source": [
    "#Of covid cases, which states had the highest mortality rate?\n",
    "plt.bar(df['State'],df['% Deaths per Case'])\n",
    "plt.title(\"US States, COVID-19 Mortality Rate\")\n",
    "plt.xticks(rotation = 90)\n",
    "#plt.yticks(np.arange(0,100000, 10000))\n",
    "plt.ylabel(\"% Deaths Per COVID-19 Case\")\n",
    "plt.show()"
   ]
  },
  {
   "cell_type": "code",
   "execution_count": null,
   "id": "491c9b02",
   "metadata": {},
   "outputs": [],
   "source": [
    "#group states by 2020 election results\n",
    "grouped_el_df = df.groupby('2020 Election Result').mean()\n",
    "group_df = grouped_el_df[['% Cases', '% Deaths', '% Deaths per Case']]\n",
    "group_df = group_df.reset_index()\n",
    "group_df\n"
   ]
  },
  {
   "cell_type": "code",
   "execution_count": null,
   "id": "01c44c94",
   "metadata": {},
   "outputs": [],
   "source": [
    "#Cases\n",
    "plt.rcParams[\"figure.figsize\"] = (5,5)\n",
    "plt.bar(['Democrat', 'Republican'],group_df['% Cases'])\n",
    "plt.yticks(np.arange(0,40,5))\n",
    "plt.title(\"% COVID-19 Cases in States by 2020 Election Results\")\n",
    "plt.show()\n"
   ]
  },
  {
   "cell_type": "code",
   "execution_count": null,
   "id": "d52d1ed6",
   "metadata": {},
   "outputs": [],
   "source": [
    "#Deaths and Mortality\n",
    "labels = ['% Deaths', 'Mortality Rate']\n",
    "x = np.arange(len(labels))\n",
    "\n",
    "deaths = group_df['% Deaths']\n",
    "mortality = group_df['% Deaths per Case']\n",
    "width = 0.4\n",
    "\n",
    "# plot data in grouped manner of bar type\n",
    "plt.bar(x-0.2, deaths, width, color='cyan')\n",
    "plt.bar(x+0.2, mortality, width, color='green')\n",
    "plt.xticks(x, labels)\n",
    "plt.title(\"COVID-19 Deaths in States grouped by 2020 Election Results\")\n",
    "plt.ylabel(\"Percentage\")\n",
    "plt.legend(['Democratic States', 'Republican States'])\n",
    "plt.rcParams[\"figure.figsize\"] = (5,5)\n",
    "plt.show()\n",
    "\n"
   ]
  }
 ],
 "metadata": {
  "kernelspec": {
   "display_name": "Python 3 (ipykernel)",
   "language": "python",
   "name": "python3"
  },
  "language_info": {
   "codemirror_mode": {
    "name": "ipython",
    "version": 3
   },
   "file_extension": ".py",
   "mimetype": "text/x-python",
   "name": "python",
   "nbconvert_exporter": "python",
   "pygments_lexer": "ipython3",
   "version": "3.9.7"
  }
 },
 "nbformat": 4,
 "nbformat_minor": 5
}
