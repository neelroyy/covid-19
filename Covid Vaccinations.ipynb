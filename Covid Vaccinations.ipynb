{
 "cells": [
  {
   "cell_type": "code",
   "execution_count": null,
   "id": "ce45b432",
   "metadata": {},
   "outputs": [],
   "source": [
    "import matplotlib.pyplot as plt\n",
    "import pandas as pd, datetime as dt\n",
    "import scipy.stats as st\n",
    "import os\n",
    "import csv\n",
    "\n",
    "file = 'datasets/us_state_vaccinations.csv'\n",
    "df = pd.read_csv(file)\n",
    "df.head()"
   ]
  },
  {
   "cell_type": "code",
   "execution_count": null,
   "id": "c4bdee13",
   "metadata": {
    "scrolled": true
   },
   "outputs": [],
   "source": [
    "#identify incomplete rows\n",
    "df.count()"
   ]
  },
  {
   "cell_type": "code",
   "execution_count": null,
   "id": "4cc6b62b",
   "metadata": {},
   "outputs": [],
   "source": [
    "#drop rows with missing info\n",
    "drop_missing_df = df.dropna(how = 'any')\n",
    "drop_missing_df"
   ]
  },
  {
   "cell_type": "code",
   "execution_count": null,
   "id": "e23dd575",
   "metadata": {},
   "outputs": [],
   "source": [
    "#verify dropped rows\n",
    "drop_missing_df.count()"
   ]
  },
  {
   "cell_type": "code",
   "execution_count": null,
   "id": "ecbd99b1",
   "metadata": {},
   "outputs": [],
   "source": [
    "drop_missing_df[\"date\"].value_counts()"
   ]
  },
  {
   "cell_type": "code",
   "execution_count": null,
   "id": "c3c7d02f",
   "metadata": {
    "scrolled": true
   },
   "outputs": [],
   "source": [
    "new_grouped_df = drop_missing_df.groupby([\"date\"]).sum()\n",
    "new_grouped_df = new_grouped_df.reset_index()\n",
    "new_grouped_df"
   ]
  },
  {
   "cell_type": "code",
   "execution_count": null,
   "id": "42145232",
   "metadata": {},
   "outputs": [],
   "source": [
    "new_grouped_df['date'] = pd.to_datetime(new_grouped_df['date'])\n"
   ]
  },
  {
   "cell_type": "code",
   "execution_count": null,
   "id": "5d555e19",
   "metadata": {},
   "outputs": [],
   "source": [
    "#create a graph comparing the total vaccinations over time\n",
    "x = new_grouped_df[\"date\"]\n",
    "y = new_grouped_df[\"total_vaccinations\"]\n",
    "plt.plot(x,y)\n",
    "plt.title(\"Total Vaccinations Over Time\")\n",
    "plt.xlabel(\"Time\")\n",
    "plt.ylabel(\"Total Vaccinations\")\n",
    "plt.show()"
   ]
  },
  {
   "cell_type": "code",
   "execution_count": null,
   "id": "2de8e72e",
   "metadata": {},
   "outputs": [],
   "source": [
    "#create a graph comparing people vaccinated over time\n",
    "x = new_grouped_df[\"date\"]\n",
    "y = new_grouped_df[\"people_vaccinated\"]\n",
    "plt.plot(x,y)\n",
    "plt.title(\"Total People Vaccinated Over Time\")\n",
    "plt.xlabel(\"Time\")\n",
    "plt.ylabel(\"Total People Vaccinated\")\n",
    "plt.show()"
   ]
  },
  {
   "cell_type": "code",
   "execution_count": null,
   "id": "a9c7617e",
   "metadata": {
    "scrolled": false
   },
   "outputs": [],
   "source": [
    "#create graph comparing daily vaccinations\n",
    "x = new_grouped_df[\"date\"]\n",
    "y = new_grouped_df[\"daily_vaccinations\"]\n",
    "plt.plot(x,y)\n",
    "plt.title(\"Daily Vaccinations Over Time\")\n",
    "plt.xlabel(\"Time (Months)\")\n",
    "plt.ylabel(\"Daily Vaccinations\")\n",
    "plt.xticks(rotation = 45)\n",
    "plt.show()"
   ]
  },
  {
   "cell_type": "code",
   "execution_count": null,
   "id": "534f885d",
   "metadata": {},
   "outputs": [],
   "source": [
    "new_grouped_df[\"date\"].min()"
   ]
  },
  {
   "cell_type": "code",
   "execution_count": null,
   "id": "fcbd7fce",
   "metadata": {},
   "outputs": [],
   "source": [
    "new_grouped_df[\"date\"].max()"
   ]
  },
  {
   "cell_type": "code",
   "execution_count": null,
   "id": "956ba344",
   "metadata": {},
   "outputs": [],
   "source": []
  }
 ],
 "metadata": {
  "kernelspec": {
   "display_name": "Python [conda env:PythonData38] *",
   "language": "python",
   "name": "conda-env-PythonData38-py"
  },
  "language_info": {
   "codemirror_mode": {
    "name": "ipython",
    "version": 3
   },
   "file_extension": ".py",
   "mimetype": "text/x-python",
   "name": "python",
   "nbconvert_exporter": "python",
   "pygments_lexer": "ipython3",
   "version": "3.8.12"
  }
 },
 "nbformat": 4,
 "nbformat_minor": 5
}
